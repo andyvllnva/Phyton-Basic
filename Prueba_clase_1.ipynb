{
  "nbformat": 4,
  "nbformat_minor": 0,
  "metadata": {
    "colab": {
      "provenance": [],
      "history_visible": true,
      "authorship_tag": "ABX9TyNV8PySJB4gY9lYaALzl3Wy",
      "include_colab_link": true
    },
    "kernelspec": {
      "name": "python3",
      "display_name": "Python 3"
    },
    "language_info": {
      "name": "python"
    }
  },
  "cells": [
    {
      "cell_type": "markdown",
      "metadata": {
        "id": "view-in-github",
        "colab_type": "text"
      },
      "source": [
        "<a href=\"https://colab.research.google.com/github/andyvllnva/Phyton-Basic/blob/main/Prueba_clase_1.ipynb\" target=\"_parent\"><img src=\"https://colab.research.google.com/assets/colab-badge.svg\" alt=\"Open In Colab\"/></a>"
      ]
    },
    {
      "cell_type": "code",
      "source": [
        "print ('Buena Inversión')"
      ],
      "metadata": {
        "colab": {
          "base_uri": "https://localhost:8080/"
        },
        "id": "SZW9dz-0TBhE",
        "outputId": "8418b9e2-bc6e-47ab-da17-7ad798b46f6b"
      },
      "execution_count": null,
      "outputs": [
        {
          "output_type": "stream",
          "name": "stdout",
          "text": [
            "Buena Inversión\n"
          ]
        }
      ]
    },
    {
      "cell_type": "code",
      "source": [
        "mensaje = 'Buena Inversión'\n",
        "print (mensaje)"
      ],
      "metadata": {
        "colab": {
          "base_uri": "https://localhost:8080/"
        },
        "id": "HupmgbAbdFh2",
        "outputId": "d6b75591-58e3-4ff9-8952-05b85f4150a0"
      },
      "execution_count": null,
      "outputs": [
        {
          "output_type": "stream",
          "name": "stdout",
          "text": [
            "Buena Inversión\n"
          ]
        }
      ]
    },
    {
      "cell_type": "code",
      "source": [
        "first_inversión = \"Buena\"\n",
        "second_inversión = \"Mala\"\n",
        "total_inversión = f\"{first_inversión} {second_inversión}\"\n",
        "print(total_inversión)"
      ],
      "metadata": {
        "colab": {
          "base_uri": "https://localhost:8080/"
        },
        "id": "TYbyKOG4dZHC",
        "outputId": "d72c4b8e-a95f-47c7-b1f4-fed35fdac38b"
      },
      "execution_count": null,
      "outputs": [
        {
          "output_type": "stream",
          "name": "stdout",
          "text": [
            "Buena Mala\n"
          ]
        }
      ]
    },
    {
      "cell_type": "code",
      "source": [
        "num = 28\n",
        "First = \"andres\"\n",
        "Second = \"villanueva@gmail.com\"\n",
        "Total = f\"{First}{num}{Second}\"\n",
        "print(Total)"
      ],
      "metadata": {
        "colab": {
          "base_uri": "https://localhost:8080/"
        },
        "id": "u7K2NNAJe57K",
        "outputId": "dd0ff3b1-e398-4adf-97a6-21b7219b76cf"
      },
      "execution_count": null,
      "outputs": [
        {
          "output_type": "stream",
          "name": "stdout",
          "text": [
            "andres28villanueva@gmail.com\n"
          ]
        }
      ]
    }
  ]
}